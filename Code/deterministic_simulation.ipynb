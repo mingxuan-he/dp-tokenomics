{
 "cells": [
  {
   "cell_type": "markdown",
   "metadata": {},
   "source": [
    "# Simulation for token market equilibrium\n",
    "deterministic version, log utility"
   ]
  },
  {
   "cell_type": "code",
   "execution_count": 1,
   "metadata": {},
   "outputs": [],
   "source": [
    "import numpy as np\n",
    "import matplotlib.pyplot as plt\n",
    "import solara\n",
    "import plotly.graph_objects as go"
   ]
  },
  {
   "cell_type": "code",
   "execution_count": 2,
   "metadata": {},
   "outputs": [],
   "source": [
    "# Canvas\n",
    "P_MAX = 50\n",
    "Q_MAX = 50\n",
    "p_ax = np.linspace(0.01,P_MAX,1000)\n",
    "q_ax = np.linspace(0.01,Q_MAX,1000)"
   ]
  },
  {
   "cell_type": "code",
   "execution_count": 3,
   "metadata": {},
   "outputs": [],
   "source": [
    "# Variables\n",
    "e_u = solara.reactive(100)\n",
    "beta = solara.reactive(0.98)\n",
    "m = solara.reactive(10)\n",
    "p_h = solara.reactive(1)\n",
    "phi_b = solara.reactive(0.025)\n",
    "phi_v = solara.reactive(0.025)\n",
    "h = solara.reactive(0.01)\n",
    "theta = solara.reactive(0.08)\n",
    "r = solara.reactive(0.04)\n",
    "p_1 = solara.reactive(1.2)\n",
    "M = solara.reactive(10)\n",
    "e_v = solara.reactive(100)"
   ]
  },
  {
   "cell_type": "code",
   "execution_count": 4,
   "metadata": {},
   "outputs": [],
   "source": [
    "@solara.component\n",
    "def Page():\n",
    "    # Sliders\n",
    "    solara.FloatSlider(\"e_u\", value=e_u, min=0, max=200, step=10)\n",
    "    solara.FloatSlider(\"e_v\", value=e_v, min=0, max=200, step=10)\n",
    "    solara.FloatSlider(\"beta\", value=beta, min=0, max=1, step=0.01)\n",
    "    solara.FloatSlider(\"m\", value=m, min=0, max=50, step=10)\n",
    "    solara.FloatSlider(\"M\", value=M, min=0, max=50, step=10)\n",
    "    solara.FloatSlider(\"p_h\", value=p_h, min=-2, max=2)\n",
    "    solara.FloatSlider(\"phi_b\", value=phi_b, min=0, max=1, step=0.01)\n",
    "    solara.FloatSlider(\"phi_v\", value=phi_v, min=0, max=1, step=0.01)\n",
    "    solara.FloatSlider(\"h\", value=h, min=0, max=1, step=0.01)\n",
    "    solara.FloatSlider(\"theta\", value=theta, min=0, max=1, step=0.01)\n",
    "    solara.FloatSlider(\"r\", value=r, min=0, max=1, step=0.01)\n",
    "    solara.FloatSlider(\"p(t+1)\", value=p_1, min=-2, max=2)\n",
    "\n",
    "    # compute variables\n",
    "    b = beta.value/(1+beta.value)\n",
    "    A1 = (beta.value*e_u.value - (1+beta.value)*p_h.value)\n",
    "    A2 = (1+b*phi_v.value)\n",
    "    A = A1*A2\n",
    "    B = - b*e_v.value\n",
    "    C = beta.value*(1+phi_b.value+phi_v.value)\n",
    "    D = (1-h.value)*(1+theta.value)*p_1.value/(1+r.value)\n",
    "    \n",
    "    # inverse demand curve\n",
    "    def Q_d(p):\n",
    "        Q = A1/ p / (C+D/p)\n",
    "        return Q\n",
    "\n",
    "    # inverse supply curve\n",
    "    def Q_s(p):\n",
    "        Q = (M.value + B/p) / A2\n",
    "        return Q\n",
    "\n",
    "    # plot points\n",
    "    Qs = Q_s(p_ax)\n",
    "    Qd = Q_d(p_ax)\n",
    "\n",
    "    # equilibrium price (analytical)\n",
    "    p_eqm = 2*B*D/(A-M.value*D-B*C-np.sqrt((M.value*D+B*C-A)**2-4*M.value*B*C*D))\n",
    "\n",
    "    # reset function\n",
    "    def reset():\n",
    "        try:\n",
    "            e_u.set(100)\n",
    "            beta.set(0.98)\n",
    "            m.set(10)\n",
    "            p_h.set(1)\n",
    "            phi_b.set(0.025)\n",
    "            phi_v.set(0.025)\n",
    "            h.set(0.01)\n",
    "            theta.set(0.08)\n",
    "            r.set(0.04)\n",
    "            p_1.set(1.2)\n",
    "            M.set(10)\n",
    "            e_v.set(100)\n",
    "        except RuntimeWarning:\n",
    "            pass\n",
    "    with solara.Row():\n",
    "        solara.Button(\"Reset\", on_click=reset)\n",
    "\n",
    "    # figure using Plotly\n",
    "    fig = go.Figure()\n",
    "    fig.add_trace(go.Scatter(x=Qs, y=p_ax, mode='lines', name='Token Supply'))\n",
    "    fig.add_trace(go.Scatter(x=Qd, y=p_ax, mode='lines', name='Token Demand'))\n",
    "    fig.update_xaxes(title=\"Quantity\", range=[0, Q_MAX])\n",
    "    fig.update_yaxes(title=\"Price\", range=[0, P_MAX])\n",
    "    with solara.Card():\n",
    "        solara.FigurePlotly(fig)"
   ]
  },
  {
   "cell_type": "code",
   "execution_count": 5,
   "metadata": {},
   "outputs": [
    {
     "data": {
      "application/vnd.jupyter.widget-view+json": {
       "model_id": "64b5480ba5b440c38955f61c49657ab9",
       "version_major": 2,
       "version_minor": 0
      },
      "text/html": [
       "Cannot show widget. You probably want to rerun the code cell above (<i>Click in the code cell, and press Shift+Enter <kbd>⇧</kbd>+<kbd>↩</kbd></i>)."
      ],
      "text/plain": [
       "Cannot show ipywidgets in text"
      ]
     },
     "metadata": {},
     "output_type": "display_data"
    }
   ],
   "source": [
    "Page()"
   ]
  }
 ],
 "metadata": {
  "kernelspec": {
   "display_name": "Python 3",
   "language": "python",
   "name": "python3"
  },
  "language_info": {
   "codemirror_mode": {
    "name": "ipython",
    "version": 3
   },
   "file_extension": ".py",
   "mimetype": "text/x-python",
   "name": "python",
   "nbconvert_exporter": "python",
   "pygments_lexer": "ipython3",
   "version": "3.11.3"
  }
 },
 "nbformat": 4,
 "nbformat_minor": 2
}
